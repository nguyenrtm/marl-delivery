{
  "cells": [
    {
      "cell_type": "markdown",
      "metadata": {
        "id": "AM3r0wPe5N0K"
      },
      "source": [
        "Solving Package delivery using single-agent PPO with a naive feature representation learning: concatenante all the feature in to a single state vector, and multiple robot actions as a multi discrete distribution."
      ]
    },
    {
      "cell_type": "code",
      "execution_count": 1,
      "metadata": {
        "id": "9Ro5mHQ3GnN8"
      },
      "outputs": [],
      "source": [
        "%%capture\n",
        "!git clone https://github.com/cuongtv312/marl-delivery.git\n",
        "%cd marl-delivery\n",
        "!pip install -r requirements.txt"
      ]
    },
    {
      "cell_type": "code",
      "execution_count": 2,
      "metadata": {
        "id": "uWjMBXQoG4JL"
      },
      "outputs": [],
      "source": [
        "%%capture\n",
        "!pip install stable-baselines3"
      ]
    },
    {
      "cell_type": "code",
      "execution_count": 3,
      "metadata": {
        "id": "309nvG-V8Otr"
      },
      "outputs": [],
      "source": [
        "from env import Environment\n",
        "import gymnasium as gym\n",
        "from gymnasium import spaces\n",
        "import numpy as np"
      ]
    },
    {
      "cell_type": "code",
      "execution_count": 16,
      "metadata": {
        "id": "rq1hlk4b8Q37"
      },
      "outputs": [],
      "source": [
        "# TODO: Modify this one to add more information to the Agents\n",
        "\n",
        "# def convert_state(state):\n",
        "#     ret_state = {}\n",
        "#     # state[\"time_step\"] = np.array([state[\"time_step\"]]).astype(np.float32).flatten(0)\n",
        "#     # state[\"map\"] = np.array(state[\"map\"]).astype(np.float32)\n",
        "#     ret_state[\"robots\"] = np.array(state[\"robots\"]).astype(np.float32).flatten()\n",
        "#     ret_state[\"packages\"] = np.array(state[\"packages\"]).astype(np.float32).flatten()[:100]\n",
        "#     if len(ret_state[\"packages\"]) < 1000:\n",
        "#         ret_state[\"packages\"] = np.concatenate((ret_state[\"packages\"], np.zeros(100-len(ret_state[\"packages\"]))))\n",
        "#     return np.concatenate(list(ret_state.values()))\n",
        "\n",
        "import numpy as np\n",
        "\n",
        "def convert_state(state):\n",
        "    ret_state = {}\n",
        "\n",
        "    # Normalize and flatten robot states (e.g., position, load status)\n",
        "    robot_data = np.array(state[\"robots\"], dtype=np.float32)\n",
        "    if robot_data.ndim == 2:\n",
        "        robot_data = robot_data.flatten()\n",
        "    ret_state[\"robots\"] = robot_data / 100.0  # assuming coordinates in [0, 100]\n",
        "\n",
        "    # Normalize package states and pad to fixed length\n",
        "    packages = np.array(state[\"packages\"], dtype=np.float32).flatten()\n",
        "    packages = packages / 100.0  # normalize similarly\n",
        "    max_packages = 100\n",
        "    if len(packages) < max_packages:\n",
        "        packages = np.concatenate([packages, np.zeros(max_packages - len(packages))])\n",
        "    else:\n",
        "        packages = packages[:max_packages]\n",
        "    ret_state[\"packages\"] = packages\n",
        "\n",
        "    # Optional: include time step (normalized)\n",
        "    if \"time_step\" in state:\n",
        "        time_step = np.array([state[\"time_step\"]], dtype=np.float32) / 1000.0\n",
        "        ret_state[\"time_step\"] = time_step\n",
        "\n",
        "    # Optional: include map if small enough\n",
        "    if \"map\" in state and np.array(state[\"map\"]).size < 1000:\n",
        "        map_data = np.array(state[\"map\"], dtype=np.float32).flatten() / 10.0\n",
        "        ret_state[\"map\"] = map_data\n",
        "\n",
        "    return np.concatenate(list(ret_state.values()))"
      ]
    },
    {
      "cell_type": "code",
      "execution_count": null,
      "metadata": {
        "id": "7SHRHHeF8SjO"
      },
      "outputs": [],
      "source": [
        "# TODO: Modify this one to make the agent learn faster\n",
        "\n",
        "# def reward_shaping(r, env, state, action):\n",
        "#     return r\n",
        "\n",
        "def reward_shaping(r, env, state, action):\n",
        "    shaped_reward = r\n",
        "\n",
        "    # # Reward for picking up or delivering a package\n",
        "    # if env.last_event == \"delivery\":\n",
        "    #     shaped_reward += 10.0\n",
        "    # elif env.last_event == \"pickup\":\n",
        "    #     shaped_reward += 2.0\n",
        "\n",
        "    # Small negative reward for idling (e.g., no movement)\n",
        "    if np.all(np.array(action) == 0):\n",
        "        shaped_reward -= 1.0\n",
        "\n",
        "    # Penalty for collisions if detectable\n",
        "    if hasattr(env, \"collision_occurred\") and env.collision_occurred:\n",
        "        shaped_reward -= 5.0\n",
        "\n",
        "    # Optional: slight negative reward to encourage faster completion\n",
        "    shaped_reward -= 0.01  # time penalty\n",
        "\n",
        "    return shaped_reward"
      ]
    },
    {
      "cell_type": "code",
      "execution_count": 18,
      "metadata": {
        "id": "kfrZJa4jG6yE"
      },
      "outputs": [],
      "source": [
        "# Avoid to modify the Env class,\n",
        "# If it is neccessary, you should describe those changes clearly in report and code\n",
        "class Env(gym.Env):\n",
        "    def __init__(self, *args, **kwargs):\n",
        "        super(Env, self).__init__()\n",
        "        self.env = Environment(*args, **kwargs)\n",
        "\n",
        "        self.action_space = spaces.multi_discrete.MultiDiscrete([5, 3]*self.env.n_robots)\n",
        "\n",
        "\n",
        "        self.prev_state = self.env.reset()\n",
        "        first_state=convert_state(self.prev_state)\n",
        "        # Define observation space as a dictionary\n",
        "\n",
        "        self.observation_space = spaces.Box(low=0, high=100, shape=first_state.shape, dtype=np.float32)\n",
        "\n",
        "\n",
        "        from sklearn.preprocessing import LabelEncoder\n",
        "        self.le1, self.le2= LabelEncoder(), LabelEncoder()\n",
        "        self.le1.fit(['S', 'L', 'R', 'U', 'D'])\n",
        "        self.le2.fit(['0','1', '2'])\n",
        "\n",
        "    def reset(self, *args, **kwargs):\n",
        "        self.prev_state = self.env.reset()\n",
        "        return convert_state(self.prev_state), {}\n",
        "\n",
        "    def render(self, *args, **kwargs):\n",
        "        return self.env.render()\n",
        "\n",
        "    def step(self, action):\n",
        "        ret = []\n",
        "        ret.append(self.le1.inverse_transform(action.reshape(-1, 2).T[0]))\n",
        "        ret.append(self.le2.inverse_transform(action.reshape(-1, 2).T[1]))\n",
        "        action = list(zip(*ret))\n",
        "\n",
        "        # You should not modify the infos object\n",
        "        s, r, done, infos = self.env.step(action)\n",
        "        new_r = reward_shaping(r, self.env, self.prev_state, action)\n",
        "        self.prev_state = s\n",
        "        return convert_state(s), new_r, \\\n",
        "            done, False, infos"
      ]
    },
    {
      "cell_type": "code",
      "execution_count": null,
      "metadata": {
        "colab": {
          "base_uri": "https://localhost:8080/"
        },
        "id": "X2IQRlqoKl78",
        "outputId": "fc847fe0-d855-43d0-cfe4-159cb2fc43e6"
      },
      "outputs": [
        {
          "name": "stdout",
          "output_type": "stream",
          "text": [
            "Using cpu device\n",
            "---------------------------------\n",
            "| rollout/           |          |\n",
            "|    ep_len_mean     | 100      |\n",
            "|    ep_rew_mean     | -4.08    |\n",
            "| time/              |          |\n",
            "|    fps             | 3643     |\n",
            "|    iterations      | 1        |\n",
            "|    time_elapsed    | 5        |\n",
            "|    total_timesteps | 20480    |\n",
            "---------------------------------\n"
          ]
        }
      ],
      "source": [
        "import gymnasium as gym\n",
        "\n",
        "from stable_baselines3 import PPO\n",
        "from stable_baselines3.common.env_util import make_vec_env\n",
        "from stable_baselines3.common.monitor import Monitor\n",
        "from stable_baselines3.common.callbacks import EvalCallback\n",
        "\n",
        "\n",
        "# Parallel environments\n",
        "vec_env = make_vec_env(lambda: Env('map1.txt', 100, 5, 20, -0.01, 10., 1., 10), n_envs=10)\n",
        "eval_env = Monitor(Env('map1.txt', 100, 5, 20, -0.01, 10., 1., 10), \"ppo_delivery\")\n",
        "\n",
        "eval_callback = EvalCallback(eval_env, best_model_save_path=\"./best_model/\",\n",
        "                             log_path=\"./logs/\", eval_freq=5000,\n",
        "                             deterministic=True, render=False)\n",
        "\n",
        "model = PPO(\"MlpPolicy\", vec_env, verbose=1)\n",
        "model.learn(total_timesteps=100000, callback=eval_callback)\n",
        "model.save(\"ppo_delivery\")\n"
      ]
    },
    {
      "cell_type": "code",
      "execution_count": 22,
      "metadata": {},
      "outputs": [
        {
          "name": "stdout",
          "output_type": "stream",
          "text": [
            "{'total_reward': -3.2599999999999976, 'total_time_steps': 100, 'episode': {'r': -4.26, 'l': 100, 't': 38.620815}}\n"
          ]
        }
      ],
      "source": [
        "obs,_ = eval_env.reset()\n",
        "while True:\n",
        "    action, _states = model.predict(obs)\n",
        "    obs, rewards, dones, _, info = eval_env.step(action)\n",
        "    #print('='*10)\n",
        "    #eval_env.unwrapped.env.render()\n",
        "    if dones:\n",
        "        break\n",
        "\n",
        "print(info)"
      ]
    }
  ],
  "metadata": {
    "colab": {
      "provenance": []
    },
    "kernelspec": {
      "display_name": "marl",
      "language": "python",
      "name": "python3"
    },
    "language_info": {
      "codemirror_mode": {
        "name": "ipython",
        "version": 3
      },
      "file_extension": ".py",
      "mimetype": "text/x-python",
      "name": "python",
      "nbconvert_exporter": "python",
      "pygments_lexer": "ipython3",
      "version": "3.9.21"
    }
  },
  "nbformat": 4,
  "nbformat_minor": 0
}
